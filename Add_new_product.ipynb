{
  "nbformat": 4,
  "nbformat_minor": 0,
  "metadata": {
    "colab": {
      "name": "Add new product.ipynb",
      "provenance": []
    },
    "kernelspec": {
      "name": "python3",
      "display_name": "Python 3"
    },
    "language_info": {
      "name": "python"
    }
  },
  "cells": [
    {
      "cell_type": "markdown",
      "metadata": {
        "id": "3BvGJ7UkOZxL"
      },
      "source": [
        "Read Data from Json\n"
      ]
    },
    {
      "cell_type": "code",
      "metadata": {
        "id": "rWWWKDdHSrZm"
      },
      "source": [
        "import json"
      ],
      "execution_count": 6,
      "outputs": []
    },
    {
      "cell_type": "code",
      "metadata": {
        "id": "FzzY98oi7mZR"
      },
      "source": [
        "fd=open(\"product.json\",\"r\")\n",
        "r=fd.read()\n",
        "fd.close()\n",
        "product=json.loads(r)\n"
      ],
      "execution_count": 7,
      "outputs": []
    },
    {
      "cell_type": "code",
      "metadata": {
        "colab": {
          "base_uri": "https://localhost:8080/",
          "height": 171
        },
        "id": "4Fcj096us-Jp",
        "outputId": "b3b98178-6de1-414a-f5cf-b53140920ef8"
      },
      "source": [
        "r"
      ],
      "execution_count": 8,
      "outputs": [
        {
          "output_type": "execute_result",
          "data": {
            "application/vnd.google.colaboratory.intrinsic+json": {
              "type": "string"
            },
            "text/plain": [
              "'{\"1660\": {\"name\": \"Dairymilk\", \"pr\": 20, \"qn\": 30}, \"1661\": {\"name\": \"Milk Chocolate\", \"pr\": 20, \"qn\": 65}, \"1664\": {\"name\": \"Choco pie\", \"pr\": 10, \"qn\": 40}, \"1662\": {\"name\": \"butter\", \"pr\": 60, \"qn\": 70}, \"1665\": {\"name\": \"good day\", \"pr\": 10, \"qn\": 50}, \"1663\": {\"name\": \"lux\", \"pr\": 10, \"qn\": 25}, \"1666\": {\"name\": \"Milk Shake\", \"pr\": 20, \"qn\": 40}, \"1667\": {\"name\": \"Lassi\", \"pr\": 15, \"qn\": 30}, \"1668\": {\"name\": \"Buttergold\", \"pr\": 5, \"qn\": 60}, \"1669\": {\"name\": \"Slice\", \"pr\": 30, \"qn\": 15}, \"1670\": {\"name\": \"Sprite\", \"pr\": 15, \"qn\": 40}, \"1671\": {\"name\": \"Milk Cake\", \"pr\": 30, \"qn\": 15}, \"1673\": {\"name\": \"Munch\", \"pr\": 10, \"qn\": 50}, \"1672\": {\"name\": \"KitKat\", \"pr\": 20, \"qn\": 55}, \"1674\": {\"name\": \"Coffee Chocolate\", \"pr\": 2, \"qn\": 80}, \"1675\": {\"name\": \"Dark Fantasy\", \"pr\": 25, \"qn\": 30}, \"1676\": {\"name\": \"Kurkure\", \"pr\": 5, \"qn\": 30}, \"1677\": {\"name\": \"Mad Angles\", \"pr\": 5, \"qn\": 35}, \"1678\": {\"name\": \"Maggie\", \"pr\": 20, \"qn\": 65}, \"1679\": {\"name\": \"Yippee\", \"pr\": 10, \"qn\": 30}, \"1680\": {\"name\": \"Strawberry Cake\", \"pr\": 20, \"qn\": 25}, \"1681\": {\"name\": \"Brown Bread\", \"pr\": 17, \"qn\": 20}, \"1682\": {\"name\": \"Horlicks \", \"pr\": 185, \"qn\": 6}, \"1683\": {\"name\": \"Gems\", \"pr\": 5, \"qn\": 80}, \"1684\": {\"name\": \"Perk\", \"pr\": 5, \"qn\": 65}, \"1685\": {\"name\": \"Jelly bin\", \"pr\": 10, \"qn\": 40}, \"1686\": {\"name\": \"Amul Cool\", \"pr\": 25, \"qn\": 1687}, \"1687\": {\"name\": \"Amul milk\", \"pr\": 10, \"qn\": 45}, \"1688\": {\"name\": \"Oreo\", \"pr\": 20, \"qn\": 35}, \"1689\": {\"name\": \"Fruti\", \"pr\": 12, \"qn\": 40}, \"1690\": {\"name\": \"Chocobar Icecream\", \"pr\": 20, \"qn\": 65}}'"
            ]
          },
          "metadata": {},
          "execution_count": 8
        }
      ]
    },
    {
      "cell_type": "code",
      "metadata": {
        "colab": {
          "base_uri": "https://localhost:8080/"
        },
        "id": "GPcNxsgcHTvO",
        "outputId": "08bdd20c-1821-47ca-f757-e83fb1f0a392"
      },
      "source": [
        "product"
      ],
      "execution_count": 9,
      "outputs": [
        {
          "output_type": "execute_result",
          "data": {
            "text/plain": [
              "{'1660': {'name': 'Dairymilk', 'pr': 20, 'qn': 30},\n",
              " '1661': {'name': 'Milk Chocolate', 'pr': 20, 'qn': 65},\n",
              " '1662': {'name': 'butter', 'pr': 60, 'qn': 70},\n",
              " '1663': {'name': 'lux', 'pr': 10, 'qn': 25},\n",
              " '1664': {'name': 'Choco pie', 'pr': 10, 'qn': 40},\n",
              " '1665': {'name': 'good day', 'pr': 10, 'qn': 50},\n",
              " '1666': {'name': 'Milk Shake', 'pr': 20, 'qn': 40},\n",
              " '1667': {'name': 'Lassi', 'pr': 15, 'qn': 30},\n",
              " '1668': {'name': 'Buttergold', 'pr': 5, 'qn': 60},\n",
              " '1669': {'name': 'Slice', 'pr': 30, 'qn': 15},\n",
              " '1670': {'name': 'Sprite', 'pr': 15, 'qn': 40},\n",
              " '1671': {'name': 'Milk Cake', 'pr': 30, 'qn': 15},\n",
              " '1672': {'name': 'KitKat', 'pr': 20, 'qn': 55},\n",
              " '1673': {'name': 'Munch', 'pr': 10, 'qn': 50},\n",
              " '1674': {'name': 'Coffee Chocolate', 'pr': 2, 'qn': 80},\n",
              " '1675': {'name': 'Dark Fantasy', 'pr': 25, 'qn': 30},\n",
              " '1676': {'name': 'Kurkure', 'pr': 5, 'qn': 30},\n",
              " '1677': {'name': 'Mad Angles', 'pr': 5, 'qn': 35},\n",
              " '1678': {'name': 'Maggie', 'pr': 20, 'qn': 65},\n",
              " '1679': {'name': 'Yippee', 'pr': 10, 'qn': 30},\n",
              " '1680': {'name': 'Strawberry Cake', 'pr': 20, 'qn': 25},\n",
              " '1681': {'name': 'Brown Bread', 'pr': 17, 'qn': 20},\n",
              " '1682': {'name': 'Horlicks ', 'pr': 185, 'qn': 6},\n",
              " '1683': {'name': 'Gems', 'pr': 5, 'qn': 80},\n",
              " '1684': {'name': 'Perk', 'pr': 5, 'qn': 65},\n",
              " '1685': {'name': 'Jelly bin', 'pr': 10, 'qn': 40},\n",
              " '1686': {'name': 'Amul Cool', 'pr': 25, 'qn': 1687},\n",
              " '1687': {'name': 'Amul milk', 'pr': 10, 'qn': 45},\n",
              " '1688': {'name': 'Oreo', 'pr': 20, 'qn': 35},\n",
              " '1689': {'name': 'Fruti', 'pr': 12, 'qn': 40},\n",
              " '1690': {'name': 'Chocobar Icecream', 'pr': 20, 'qn': 65}}"
            ]
          },
          "metadata": {},
          "execution_count": 9
        }
      ]
    },
    {
      "cell_type": "markdown",
      "metadata": {
        "id": "P18SjkIHOjcG"
      },
      "source": [
        "Add New Item Into Inventery"
      ]
    },
    {
      "cell_type": "code",
      "metadata": {
        "id": "0U0SZu7FHT7j",
        "colab": {
          "base_uri": "https://localhost:8080/"
        },
        "outputId": "9678d7a7-732d-41e3-8d05-7133c51b4031"
      },
      "source": [
        "prod_id=str(input(\"Enter product id:\"))\n",
        "if prod_id in product:\n",
        "  qn=int(input(\"Enter Quantity:\"))\n",
        "  name=str(input(\"Enter product name:\"))\n",
        "  pr=int(input(\"Enter product price:\"))\n",
        "  qn=product[prod_id]['qn']+qn\n",
        "  product[prod_id]={'name':name,'pr':pr,'qn':qn}\n",
        "else:\n",
        "  name=str(input(\"Enter product name:\"))\n",
        "  pr=int(input(\"Enter product price:\"))\n",
        "  qn=int(input(\"Enter Quantity:\"))\n",
        "\n",
        "\n",
        "  product[prod_id]={'name':name,'pr':pr,'qn':qn}\n",
        "\n",
        "js=json.dumps(product)\n",
        "\n",
        "fd=open(\"product.json\",'w')\n",
        "fd.write(js)\n",
        "fd.close()"
      ],
      "execution_count": 10,
      "outputs": [
        {
          "name": "stdout",
          "output_type": "stream",
          "text": [
            "Enter product id:1663\n",
            "Enter Quantity:15\n",
            "Enter product name:lux\n",
            "Enter product price:10\n"
          ]
        }
      ]
    },
    {
      "cell_type": "code",
      "metadata": {
        "colab": {
          "base_uri": "https://localhost:8080/"
        },
        "id": "MHjxj1dP8ByU",
        "outputId": "f6196c8e-b288-4f06-f3bb-831e193d68e2"
      },
      "source": [
        "product"
      ],
      "execution_count": 11,
      "outputs": [
        {
          "output_type": "execute_result",
          "data": {
            "text/plain": [
              "{'1660': {'name': 'Dairymilk', 'pr': 20, 'qn': 30},\n",
              " '1661': {'name': 'Milk Chocolate', 'pr': 20, 'qn': 65},\n",
              " '1662': {'name': 'butter', 'pr': 60, 'qn': 70},\n",
              " '1663': {'name': 'lux', 'pr': 10, 'qn': 40},\n",
              " '1664': {'name': 'Choco pie', 'pr': 10, 'qn': 40},\n",
              " '1665': {'name': 'good day', 'pr': 10, 'qn': 50},\n",
              " '1666': {'name': 'Milk Shake', 'pr': 20, 'qn': 40},\n",
              " '1667': {'name': 'Lassi', 'pr': 15, 'qn': 30},\n",
              " '1668': {'name': 'Buttergold', 'pr': 5, 'qn': 60},\n",
              " '1669': {'name': 'Slice', 'pr': 30, 'qn': 15},\n",
              " '1670': {'name': 'Sprite', 'pr': 15, 'qn': 40},\n",
              " '1671': {'name': 'Milk Cake', 'pr': 30, 'qn': 15},\n",
              " '1672': {'name': 'KitKat', 'pr': 20, 'qn': 55},\n",
              " '1673': {'name': 'Munch', 'pr': 10, 'qn': 50},\n",
              " '1674': {'name': 'Coffee Chocolate', 'pr': 2, 'qn': 80},\n",
              " '1675': {'name': 'Dark Fantasy', 'pr': 25, 'qn': 30},\n",
              " '1676': {'name': 'Kurkure', 'pr': 5, 'qn': 30},\n",
              " '1677': {'name': 'Mad Angles', 'pr': 5, 'qn': 35},\n",
              " '1678': {'name': 'Maggie', 'pr': 20, 'qn': 65},\n",
              " '1679': {'name': 'Yippee', 'pr': 10, 'qn': 30},\n",
              " '1680': {'name': 'Strawberry Cake', 'pr': 20, 'qn': 25},\n",
              " '1681': {'name': 'Brown Bread', 'pr': 17, 'qn': 20},\n",
              " '1682': {'name': 'Horlicks ', 'pr': 185, 'qn': 6},\n",
              " '1683': {'name': 'Gems', 'pr': 5, 'qn': 80},\n",
              " '1684': {'name': 'Perk', 'pr': 5, 'qn': 65},\n",
              " '1685': {'name': 'Jelly bin', 'pr': 10, 'qn': 40},\n",
              " '1686': {'name': 'Amul Cool', 'pr': 25, 'qn': 1687},\n",
              " '1687': {'name': 'Amul milk', 'pr': 10, 'qn': 45},\n",
              " '1688': {'name': 'Oreo', 'pr': 20, 'qn': 35},\n",
              " '1689': {'name': 'Fruti', 'pr': 12, 'qn': 40},\n",
              " '1690': {'name': 'Chocobar Icecream', 'pr': 20, 'qn': 65}}"
            ]
          },
          "metadata": {},
          "execution_count": 11
        }
      ]
    },
    {
      "cell_type": "code",
      "metadata": {
        "id": "foy3x8x2HUO9",
        "colab": {
          "base_uri": "https://localhost:8080/"
        },
        "outputId": "bbf02bcc-e511-4000-e100-7f513754c6d5"
      },
      "source": [
        "len(product)"
      ],
      "execution_count": 12,
      "outputs": [
        {
          "output_type": "execute_result",
          "data": {
            "text/plain": [
              "31"
            ]
          },
          "metadata": {},
          "execution_count": 12
        }
      ]
    }
  ]
}