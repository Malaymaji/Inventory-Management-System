{
  "nbformat": 4,
  "nbformat_minor": 0,
  "metadata": {
    "colab": {
      "name": "purchasing product.ipynb",
      "provenance": [],
      "collapsed_sections": []
    },
    "kernelspec": {
      "name": "python3",
      "display_name": "Python 3"
    },
    "language_info": {
      "name": "python"
    }
  },
  "cells": [
    {
      "cell_type": "markdown",
      "metadata": {
        "id": "KuWpFbd5P4fv"
      },
      "source": [
        "Read Inventory"
      ]
    },
    {
      "cell_type": "code",
      "metadata": {
        "id": "3wOIjZCINE-x"
      },
      "source": [
        "import json\n",
        "fd=open(\"product.json\",\"r\")\n",
        "r=fd.read()\n",
        "fd.close()\n",
        "products=json.loads(r)"
      ],
      "execution_count": 1,
      "outputs": []
    },
    {
      "cell_type": "code",
      "metadata": {
        "colab": {
          "base_uri": "https://localhost:8080/"
        },
        "id": "NsIonV1TFSdq",
        "outputId": "05a82b48-8857-4d0b-f2a2-e01036e3f0af"
      },
      "source": [
        "products"
      ],
      "execution_count": 2,
      "outputs": [
        {
          "output_type": "execute_result",
          "data": {
            "text/plain": [
              "{'1660': {'name': 'Dairymilk', 'pr': 20, 'qn': 30},\n",
              " '1661': {'name': 'Milk Chocolate', 'pr': 20, 'qn': 65},\n",
              " '1662': {'name': 'butter', 'pr': 60, 'qn': 70},\n",
              " '1663': {'name': 'lux', 'pr': 10, 'qn': 25},\n",
              " '1664': {'name': 'Choco pie', 'pr': 10, 'qn': 40},\n",
              " '1665': {'name': 'good day', 'pr': 10, 'qn': 50},\n",
              " '1666': {'name': 'Milk Shake', 'pr': 20, 'qn': 40},\n",
              " '1667': {'name': 'Lassi', 'pr': 15, 'qn': 30},\n",
              " '1668': {'name': 'Buttergold', 'pr': 5, 'qn': 60},\n",
              " '1669': {'name': 'Slice', 'pr': 30, 'qn': 15},\n",
              " '1670': {'name': 'Sprite', 'pr': 15, 'qn': 40},\n",
              " '1671': {'name': 'Milk Cake', 'pr': 30, 'qn': 15},\n",
              " '1672': {'name': 'KitKat', 'pr': 20, 'qn': 55},\n",
              " '1673': {'name': 'Munch', 'pr': 10, 'qn': 50},\n",
              " '1674': {'name': 'Coffee Chocolate', 'pr': 2, 'qn': 80},\n",
              " '1675': {'name': 'Dark Fantasy', 'pr': 25, 'qn': 30},\n",
              " '1676': {'name': 'Kurkure', 'pr': 5, 'qn': 30},\n",
              " '1677': {'name': 'Mad Angles', 'pr': 5, 'qn': 35},\n",
              " '1678': {'name': 'Maggie', 'pr': 20, 'qn': 65},\n",
              " '1679': {'name': 'Yippee', 'pr': 10, 'qn': 30},\n",
              " '1680': {'name': 'Strawberry Cake', 'pr': 20, 'qn': 25},\n",
              " '1681': {'name': 'Brown Bread', 'pr': 17, 'qn': 20},\n",
              " '1682': {'name': 'Horlicks ', 'pr': 185, 'qn': 6},\n",
              " '1683': {'name': 'Gems', 'pr': 5, 'qn': 80},\n",
              " '1684': {'name': 'Perk', 'pr': 5, 'qn': 65},\n",
              " '1685': {'name': 'Jelly bin', 'pr': 10, 'qn': 40},\n",
              " '1686': {'name': 'Amul Cool', 'pr': 25, 'qn': 1687},\n",
              " '1687': {'name': 'Amul milk', 'pr': 10, 'qn': 45},\n",
              " '1688': {'name': 'Oreo', 'pr': 20, 'qn': 35},\n",
              " '1689': {'name': 'Fruti', 'pr': 12, 'qn': 40},\n",
              " '1690': {'name': 'Chocobar Icecream', 'pr': 20, 'qn': 65}}"
            ]
          },
          "metadata": {},
          "execution_count": 2
        }
      ]
    },
    {
      "cell_type": "markdown",
      "metadata": {
        "id": "YSSrR9KEQG8f"
      },
      "source": [
        "Purchase\n"
      ]
    },
    {
      "cell_type": "code",
      "metadata": {
        "colab": {
          "base_uri": "https://localhost:8080/"
        },
        "id": "sRyllWZyALYG",
        "outputId": "d0f375b6-bbf4-4b4e-df4d-6e6060f2ebb1"
      },
      "source": [
        "\n",
        "ui_prod=str(input(\"Enter product id:\"))\n",
        "ui_quant=int(input(\"Enter Quantity\"))\n",
        "if ui_prod in products:\n",
        "  print('*****************************************')\n",
        "  print(\"Product Name:\",products[ui_prod]['name'])\n",
        "  print(\"Price:\",products[ui_prod]['pr'])\n",
        "  print(\"quantity:\",ui_quant)\n",
        "  print(\"-----------------------------------------\")\n",
        "  print(\"Billing Amount:\",products[ui_prod]['pr']*ui_quant)\n",
        "  print('*****************************************')\n",
        "  products[ui_prod]['qn']=products[ui_prod]['qn']-ui_quant\n",
        "else:\n",
        "  print(\"You Entered a invalid ID\")"
      ],
      "execution_count": 3,
      "outputs": [
        {
          "output_type": "stream",
          "name": "stdout",
          "text": [
            "Enter product id:1686\n",
            "Enter Quantity10\n",
            "*****************************************\n",
            "Product Name: Amul Cool\n",
            "Price: 25\n",
            "quantity: 10\n",
            "-----------------------------------------\n",
            "Billing Amount: 250\n",
            "*****************************************\n"
          ]
        }
      ]
    },
    {
      "cell_type": "code",
      "metadata": {
        "colab": {
          "base_uri": "https://localhost:8080/"
        },
        "id": "9F0MlZ5lALdD",
        "outputId": "19d7dd6d-d6b3-4db7-e521-366af3e64157"
      },
      "source": [
        "products"
      ],
      "execution_count": 4,
      "outputs": [
        {
          "output_type": "execute_result",
          "data": {
            "text/plain": [
              "{'1660': {'name': 'Dairymilk', 'pr': 20, 'qn': 30},\n",
              " '1661': {'name': 'Milk Chocolate', 'pr': 20, 'qn': 65},\n",
              " '1662': {'name': 'butter', 'pr': 60, 'qn': 70},\n",
              " '1663': {'name': 'lux', 'pr': 10, 'qn': 25},\n",
              " '1664': {'name': 'Choco pie', 'pr': 10, 'qn': 40},\n",
              " '1665': {'name': 'good day', 'pr': 10, 'qn': 50},\n",
              " '1666': {'name': 'Milk Shake', 'pr': 20, 'qn': 40},\n",
              " '1667': {'name': 'Lassi', 'pr': 15, 'qn': 30},\n",
              " '1668': {'name': 'Buttergold', 'pr': 5, 'qn': 60},\n",
              " '1669': {'name': 'Slice', 'pr': 30, 'qn': 15},\n",
              " '1670': {'name': 'Sprite', 'pr': 15, 'qn': 40},\n",
              " '1671': {'name': 'Milk Cake', 'pr': 30, 'qn': 15},\n",
              " '1672': {'name': 'KitKat', 'pr': 20, 'qn': 55},\n",
              " '1673': {'name': 'Munch', 'pr': 10, 'qn': 50},\n",
              " '1674': {'name': 'Coffee Chocolate', 'pr': 2, 'qn': 80},\n",
              " '1675': {'name': 'Dark Fantasy', 'pr': 25, 'qn': 30},\n",
              " '1676': {'name': 'Kurkure', 'pr': 5, 'qn': 30},\n",
              " '1677': {'name': 'Mad Angles', 'pr': 5, 'qn': 35},\n",
              " '1678': {'name': 'Maggie', 'pr': 20, 'qn': 65},\n",
              " '1679': {'name': 'Yippee', 'pr': 10, 'qn': 30},\n",
              " '1680': {'name': 'Strawberry Cake', 'pr': 20, 'qn': 25},\n",
              " '1681': {'name': 'Brown Bread', 'pr': 17, 'qn': 20},\n",
              " '1682': {'name': 'Horlicks ', 'pr': 185, 'qn': 6},\n",
              " '1683': {'name': 'Gems', 'pr': 5, 'qn': 80},\n",
              " '1684': {'name': 'Perk', 'pr': 5, 'qn': 65},\n",
              " '1685': {'name': 'Jelly bin', 'pr': 10, 'qn': 40},\n",
              " '1686': {'name': 'Amul Cool', 'pr': 25, 'qn': 1677},\n",
              " '1687': {'name': 'Amul milk', 'pr': 10, 'qn': 45},\n",
              " '1688': {'name': 'Oreo', 'pr': 20, 'qn': 35},\n",
              " '1689': {'name': 'Fruti', 'pr': 12, 'qn': 40},\n",
              " '1690': {'name': 'Chocobar Icecream', 'pr': 20, 'qn': 65}}"
            ]
          },
          "metadata": {},
          "execution_count": 4
        }
      ]
    },
    {
      "cell_type": "markdown",
      "metadata": {
        "id": "nUkIBId-RUy2"
      },
      "source": [
        "Update Inventory After Purchase"
      ]
    },
    {
      "cell_type": "code",
      "metadata": {
        "id": "ZYLrCT1gALiY"
      },
      "source": [
        "js=json.dumps(products)\n",
        "fd=open(\"product.json\",'w')\n",
        "fd.write(js)\n",
        "fd.close()"
      ],
      "execution_count": 7,
      "outputs": []
    },
    {
      "cell_type": "markdown",
      "metadata": {
        "id": "aBAOOIpeSKAs"
      },
      "source": [
        "Sales json\n"
      ]
    },
    {
      "cell_type": "code",
      "metadata": {
        "colab": {
          "base_uri": "https://localhost:8080/"
        },
        "id": "6pBBkdF3SJYw",
        "outputId": "419d08ff-83ef-4b54-a996-494062889871"
      },
      "source": [
        "{ 'prod': ui_prod,'qn':ui_quant,'amount':products[ui_prod]['pr']*ui_quant}"
      ],
      "execution_count": 8,
      "outputs": [
        {
          "output_type": "execute_result",
          "data": {
            "text/plain": [
              "{'amount': 250, 'prod': '1686', 'qn': 10}"
            ]
          },
          "metadata": {},
          "execution_count": 8
        }
      ]
    },
    {
      "cell_type": "code",
      "metadata": {
        "id": "UUW0ub7LTX2X"
      },
      "source": [
        "sales={1:{ 'prod': ui_prod,'qn':ui_quant,'amount':products[ui_prod]['pr']*ui_quant},\n",
        "       2:{ 'prod': ui_prod,'qn':ui_quant,'amount':products[ui_prod]['pr']*ui_quant},\n",
        "       3:{ 'prod': ui_prod,'qn':ui_quant,'amount':products[ui_prod]['pr']*ui_quant}}"
      ],
      "execution_count": 9,
      "outputs": []
    },
    {
      "cell_type": "code",
      "metadata": {
        "colab": {
          "base_uri": "https://localhost:8080/",
          "height": 52
        },
        "id": "jATfQHwTTX4W",
        "outputId": "eeb13496-1380-4ebe-f67a-1af40662c089"
      },
      "source": [
        "json.dumps(sales)"
      ],
      "execution_count": 10,
      "outputs": [
        {
          "output_type": "execute_result",
          "data": {
            "application/vnd.google.colaboratory.intrinsic+json": {
              "type": "string"
            },
            "text/plain": [
              "'{\"1\": {\"prod\": \"1686\", \"qn\": 10, \"amount\": 250}, \"2\": {\"prod\": \"1686\", \"qn\": 10, \"amount\": 250}, \"3\": {\"prod\": \"1686\", \"qn\": 10, \"amount\": 250}}'"
            ]
          },
          "metadata": {},
          "execution_count": 10
        }
      ]
    },
    {
      "cell_type": "code",
      "metadata": {
        "colab": {
          "base_uri": "https://localhost:8080/"
        },
        "id": "JJvM722fTX7C",
        "outputId": "9e96c894-7328-46f1-e54c-f04d988ffcf0"
      },
      "source": [
        "{(len(sales)+1):{ 'prod': ui_prod,'qn':ui_quant,'amount':products[ui_prod]['pr']*ui_quant}}"
      ],
      "execution_count": 11,
      "outputs": [
        {
          "output_type": "execute_result",
          "data": {
            "text/plain": [
              "{4: {'amount': 250, 'prod': '1686', 'qn': 10}}"
            ]
          },
          "metadata": {},
          "execution_count": 11
        }
      ]
    },
    {
      "cell_type": "code",
      "metadata": {
        "id": "XFsjR7CbTX-A"
      },
      "source": [
        "sales[(len(sales)+1)]={ 'prod': ui_prod,'qn':ui_quant,'amount':products[ui_prod]['pr']*ui_quant}"
      ],
      "execution_count": 12,
      "outputs": []
    },
    {
      "cell_type": "code",
      "metadata": {
        "colab": {
          "base_uri": "https://localhost:8080/"
        },
        "id": "eUwlMudtWfqk",
        "outputId": "4aec8e5d-d0d3-4134-caf5-7dee6dd10e44"
      },
      "source": [
        "sales"
      ],
      "execution_count": 13,
      "outputs": [
        {
          "output_type": "execute_result",
          "data": {
            "text/plain": [
              "{1: {'amount': 250, 'prod': '1686', 'qn': 10},\n",
              " 2: {'amount': 250, 'prod': '1686', 'qn': 10},\n",
              " 3: {'amount': 250, 'prod': '1686', 'qn': 10},\n",
              " 4: {'amount': 250, 'prod': '1686', 'qn': 10}}"
            ]
          },
          "metadata": {},
          "execution_count": 13
        }
      ]
    }
  ]
}